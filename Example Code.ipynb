{
 "cells": [
  {
   "cell_type": "code",
   "execution_count": 1,
   "id": "703fa81c-587d-40c2-b79e-a25db7f78d5a",
   "metadata": {},
   "outputs": [],
   "source": [
    "from abc import ABC, abstractmethod\n",
    "from numerapi import CryptoAPI\n",
    "import pandas as pd\n",
    "import numpy as np\n",
    "from datetime import datetime, timezone\n",
    "\n",
    "import json\n",
    "import os\n",
    "import requests\n",
    "from websocket import create_connection\n",
    "\n",
    "import eth_account\n",
    "from eth_account.signers.local import LocalAccount\n",
    "\n",
    "from hyperliquid.exchange import Exchange\n",
    "from hyperliquid.info import Info\n",
    "from hyperliquid.utils.constants import MAINNET_API_URL, TESTNET_API_URL\n",
    "\n",
    "from oracle_interfaces import OracleInterface, NumeraiTBNOracle\n",
    "from dex_interfaces import DEXInterface, HyperLiquidDEX\n",
    "\n",
    "\n",
    "# Portfolio Manager\n",
    "class PortfolioManager:\n",
    "    def __init__(self, oracle: OracleInterface, dex: DEXInterface):\n",
    "        \"\"\"Initialize the Portfolio Manager with an Oracle implementation.\"\"\"\n",
    "        self.oracle = oracle\n",
    "        self.dex = dex\n",
    "\n",
    "    def manage_portfolio(self, timestamp = datetime.now(timezone.utc) ):\n",
    "        \"\"\"Fetch weights from the Oracle and print them.\"\"\"\n",
    "        print(f\"[PortfolioManager] Requesting portfolio weights for {timestamp}.\")\n",
    "        tradable_universe = dex.get_universe()\n",
    "        # tradable_universe = ['BTC','ETH','AAVE','LDO','SUI','WLD','GOAT','EIGEN','AVAX','ENS']\n",
    "        weights = self.oracle.fetch_portfolio_weights(\n",
    "            timestamp,\n",
    "            tradable_universe,\n",
    "            lags=30\n",
    "        )\n",
    "\n",
    "        if not self.oracle.validate_weights(weights):\n",
    "            raise ValueError(\"Invalid portfolio weights received from Oracle.\")\n",
    "\n",
    "        print(f\"[PortfolioManager] Portfolio weights: {weights}\")\n",
    "\n",
    "        dex.set_portfolio_weights( weights )\n",
    "\n",
    "\n"
   ]
  },
  {
   "cell_type": "code",
   "execution_count": 6,
   "id": "383a7676-f52b-42a4-8176-6038eee4b2ad",
   "metadata": {},
   "outputs": [
    {
     "name": "stderr",
     "output_type": "stream",
     "text": [
      "2024-12-18 15:49:24,700 INFO numerapi.utils: target file already exists\n",
      "2024-12-18 15:49:24,702 INFO numerapi.utils: download complete\n"
     ]
    },
    {
     "name": "stdout",
     "output_type": "stream",
     "text": [
      "[DEX] Universe Set Successfully.\n",
      "[DEX] Running with account address: 0x39609221106F50DD140011e2F11cEE2338dD12dB\n"
     ]
    },
    {
     "name": "stderr",
     "output_type": "stream",
     "text": [
      "2024-12-18 15:49:25,915 INFO websocket: Websocket connected\n"
     ]
    },
    {
     "name": "stdout",
     "output_type": "stream",
     "text": [
      "[DEX] Getting Positions.\n",
      "[DEX] SOL: 18.7416\n",
      "[DEX] BTC: 18.1917\n",
      "[DEX] ETH: 18.463\n",
      "[DEX] BNB: 18.76446\n",
      "[DEX] AVAX: 18.46698\n",
      "[DEX] APE: -18.29909\n",
      "[DEX] OP: 18.40524\n",
      "[DEX] WLD: -18.3525\n",
      "[DEX] MKR: 18.4525\n",
      "[DEX] AAVE: 17.5285\n",
      "[DEX] SUI: -18.46908\n",
      "[DEX] INJ: 17.4468\n",
      "[DEX] BLZ: 18.39363\n",
      "[DEX] BANANA: -17.3644\n",
      "[DEX] BIGTIME: -18.36674\n",
      "[DEX] KAS: 18.03249\n",
      "[DEX] BLUR: -18.45988\n",
      "[DEX] TIA: -18.21064\n",
      "[DEX] BSV: 18.1872\n",
      "[DEX] TON: 53.987\n",
      "[DEX] ADA: -18.69961\n",
      "[DEX] MINA: 18.13786\n",
      "[DEX] GAS: 18.48171\n",
      "[DEX] FET: 19.0203\n",
      "[DEX] NEAR: 18.06835\n",
      "[DEX] ORDI: -18.27016\n",
      "[DEX] BADGER: -18.53766\n",
      "[DEX] PYTH: -18.50534\n",
      "[DEX] RUNE: 18.56435\n",
      "[DEX] SUSHI: -18.4626\n",
      "[DEX] ILV: -18.24498\n",
      "[DEX] MAV: -18.29569\n",
      "[DEX] IMX: 18.21255\n",
      "[DEX] SUPER: 18.9343\n",
      "[DEX] GALA: -18.380914\n",
      "[DEX] ACE: -18.320531\n",
      "[DEX] CAKE: -18.29295\n",
      "[DEX] ENS: -18.3103\n",
      "[DEX] ETC: 18.27987\n",
      "[DEX] UMA: 18.28414\n",
      "[DEX] REQ: -18.3456\n",
      "[DEX] AR: 18.40212\n",
      "[DEX] HBAR: -18.5427\n",
      "[DEX] LISTA: 18.23878\n",
      "[DEX] POL: -18.23325\n",
      "[DEX] XLM: -53.6544\n",
      "[DEX] SAND: -18.621\n",
      "[DEX] ALGO: -18.32894\n",
      "[DEX] ICP: 18.29765\n",
      "[DEX] IOTA: -18.52424\n"
     ]
    }
   ],
   "source": [
    "# Instantiate Oracle and DEX interfaces\n",
    "oracle = NumeraiTBNOracle(tb=30)\n",
    "dex = HyperLiquidDEX(\"testnet\")"
   ]
  },
  {
   "cell_type": "code",
   "execution_count": 8,
   "id": "976f8c97-ab1d-4989-80b3-0204b7661957",
   "metadata": {},
   "outputs": [
    {
     "name": "stdout",
     "output_type": "stream",
     "text": [
      "1105.344524\n"
     ]
    }
   ],
   "source": [
    "print(dex.net_liq)"
   ]
  },
  {
   "cell_type": "code",
   "execution_count": 4,
   "id": "958e3016-2f7f-4057-981c-aa3231d109e0",
   "metadata": {},
   "outputs": [
    {
     "name": "stdout",
     "output_type": "stream",
     "text": [
      "{'BTC': 56.41048, 'ETH': 55.266, 'BNB': 56.94326, 'AVAX': 18.459, 'APE': -18.38814, 'AAVE': 17.6095, 'INJ': 52.437, 'TON': 53.932, 'ADA': -18.7454, 'SUSHI': -52.40556, 'ACE': -18.388345, 'AR': 18.44271, 'HBAR': -59.76997, 'XLM': -53.76105, 'SAND': -53.5135, 'ALGO': -18.3995, 'IOTA': -52.11615}\n"
     ]
    }
   ],
   "source": [
    "print( dex.positions )"
   ]
  },
  {
   "cell_type": "code",
   "execution_count": 5,
   "id": "bf3a3336-e62a-43c3-8bba-80a82bd7d3b2",
   "metadata": {},
   "outputs": [
    {
     "data": {
      "text/plain": [
       "Timestamp('2024-05-07 00:00:00')"
      ]
     },
     "execution_count": 5,
     "metadata": {},
     "output_type": "execute_result"
    }
   ],
   "source": [
    "oracle.mm['date'].min()"
   ]
  },
  {
   "cell_type": "code",
   "execution_count": 9,
   "id": "11123b92-3e43-4f08-a6e7-c459092d78eb",
   "metadata": {},
   "outputs": [
    {
     "name": "stdout",
     "output_type": "stream",
     "text": [
      "[PortfolioManager] Requesting portfolio weights for 2024-12-18 20:47:00.218892+00:00.\n",
      "[Oracle] Computing portfolio weights for timestamp 2024-12-18 20:47:00.218892+00:00.\n",
      "[Oracle] Portfolio Date: 2024-12-17 00:00:00\n",
      "[PortfolioManager] Portfolio weights: {'AAVE': 0.016666666666666666, 'ACE': -0.016666666666666666, 'ADA': -0.016666666666666666, 'ALGO': -0.016666666666666666, 'APE': -0.016666666666666666, 'APT': 0.0, 'AR': 0.016666666666666666, 'ARB': 0.0, 'ATOM': 0.0, 'AVAX': 0.016666666666666666, 'AXL': 0.016666666666666666, 'BADGER': -0.016666666666666666, 'BANANA': -0.016666666666666666, 'BIGTIME': -0.016666666666666666, 'BLUR': -0.016666666666666666, 'BLZ': 0.016666666666666666, 'BNB': 0.016666666666666666, 'BSV': 0.016666666666666666, 'BTC': 0.016666666666666666, 'CAKE': -0.016666666666666666, 'CELO': 0.0, 'COMP': 0.0, 'DYDX': 0.0, 'ENS': -0.016666666666666666, 'ETC': 0.016666666666666666, 'ETH': 0.016666666666666666, 'FET': 0.016666666666666666, 'FIL': 0.0, 'FTM': 0.0, 'FTT': 0.0, 'FXS': 0.0, 'GALA': -0.016666666666666666, 'GAS': 0.016666666666666666, 'GMT': 0.0, 'HBAR': -0.016666666666666666, 'ICP': 0.016666666666666666, 'ILV': -0.016666666666666666, 'IMX': 0.016666666666666666, 'INJ': 0.016666666666666666, 'IOTA': -0.016666666666666666, 'JOE': 0.0, 'KAS': 0.016666666666666666, 'LISTA': 0.016666666666666666, 'MATIC': 0.0, 'MAV': -0.016666666666666666, 'MEME': 0.0, 'MINA': 0.016666666666666666, 'MKR': 0.016666666666666666, 'NEAR': 0.016666666666666666, 'NEO': 0.0, 'NTRN': 0.0, 'OP': 0.016666666666666666, 'ORDI': -0.016666666666666666, 'PENDLE': 0.016666666666666666, 'PEOPLE': 0.0, 'POL': -0.016666666666666666, 'POLYX': -0.016666666666666666, 'PYTH': -0.016666666666666666, 'RENDER': 0.0, 'REQ': -0.016666666666666666, 'RLB': 0.0, 'RSR': 0.0, 'RUNE': 0.016666666666666666, 'SAND': -0.016666666666666666, 'SNX': 0.016666666666666666, 'SOL': 0.016666666666666666, 'STG': 0.016666666666666666, 'STRAX': 0.016666666666666666, 'STX': 0.0, 'SUI': -0.016666666666666666, 'SUPER': 0.016666666666666666, 'SUSHI': -0.016666666666666666, 'TAO': 0.0, 'TIA': -0.016666666666666666, 'TON': 0.016666666666666666, 'TRB': 0.0, 'TURBO': -0.016666666666666666, 'UMA': 0.016666666666666666, 'UNIBOT': -0.016666666666666666, 'VET': -0.016666666666666666, 'WLD': -0.016666666666666666, 'XLM': -0.016666666666666666, 'ZEN': -0.016666666666666666, 'ZETA': 0.0}\n",
      "[DEX] Running with account address: 0x39609221106F50DD140011e2F11cEE2338dD12dB\n"
     ]
    },
    {
     "name": "stderr",
     "output_type": "stream",
     "text": [
      "2024-12-18 15:49:46,242 INFO websocket: Websocket connected\n"
     ]
    },
    {
     "name": "stdout",
     "output_type": "stream",
     "text": [
      "[DEX] Getting Positions.\n",
      "[DEX] SOL: 18.7416\n",
      "[DEX] BTC: 18.19422\n",
      "[DEX] ETH: 18.4675\n",
      "[DEX] BNB: 18.76419\n",
      "[DEX] AVAX: 18.4695\n",
      "[DEX] APE: -18.30183\n",
      "[DEX] OP: 18.41112\n",
      "[DEX] WLD: -18.3495\n",
      "[DEX] MKR: 18.4558\n",
      "[DEX] AAVE: 17.545\n",
      "[DEX] SUI: -18.4695\n",
      "[DEX] INJ: 17.4559\n",
      "[DEX] BLZ: 18.43101\n",
      "[DEX] BANANA: -17.38\n",
      "[DEX] BIGTIME: -18.38198\n",
      "[DEX] KAS: 18.06774\n",
      "[DEX] BLUR: -18.4729\n",
      "[DEX] TIA: -18.22335\n",
      "[DEX] BSV: 18.20384\n",
      "[DEX] TON: 54.015\n",
      "[DEX] ADA: -18.6846\n",
      "[DEX] MINA: 18.15684\n",
      "[DEX] GAS: 18.4899\n",
      "[DEX] FET: 19.0229\n",
      "[DEX] NEAR: 18.08292\n",
      "[DEX] ORDI: -18.2652\n",
      "[DEX] BADGER: -18.55332\n",
      "[DEX] PYTH: -18.515\n",
      "[DEX] RUNE: 18.57644\n",
      "[DEX] SUSHI: -18.47772\n",
      "[DEX] ILV: -18.25629\n",
      "[DEX] MAV: -18.32474\n",
      "[DEX] IMX: 18.2367\n",
      "[DEX] SUPER: 18.9629\n",
      "[DEX] GALA: -18.38412\n",
      "[DEX] ACE: -18.346995\n",
      "[DEX] CAKE: -18.304\n",
      "[DEX] ENS: -18.32318\n",
      "[DEX] ETC: 18.29451\n",
      "[DEX] UMA: 18.29451\n",
      "[DEX] REQ: -18.38304\n",
      "[DEX] AR: 18.42687\n",
      "[DEX] HBAR: -18.55392\n",
      "[DEX] LISTA: 18.25765\n",
      "[DEX] POL: -18.23885\n",
      "[DEX] XLM: -53.6571\n",
      "[DEX] SAND: -18.6318\n",
      "[DEX] ALGO: -18.33923\n",
      "[DEX] ICP: 18.30248\n",
      "[DEX] IOTA: -18.54216\n",
      "[DEX] setting weight AAVE: 0.8779343666666648\n",
      "[DEX] Dollar Weight too small, not sending order\n",
      "[DEX] setting weight ACE: -0.07593936666666679\n",
      "[DEX] Dollar Weight too small, not sending order\n",
      "[DEX] setting weight ADA: 0.26166563333333315\n",
      "[DEX] Dollar Weight too small, not sending order\n",
      "[DEX] setting weight ALGO: -0.08370436666666592\n",
      "[DEX] Dollar Weight too small, not sending order\n",
      "[DEX] setting weight APE: -0.12110436666666757\n",
      "[DEX] Dollar Weight too small, not sending order\n",
      "[DEX] setting weight AR: -0.003935633333334465\n",
      "[DEX] Dollar Weight too small, not sending order\n",
      "[DEX] setting weight AVAX: -0.04656563333333352\n",
      "[DEX] Dollar Weight too small, not sending order\n",
      "[DEX] setting weight AXL: 18.422934366666667\n",
      "[DEX] Connected to WebSocket getting Bid/Ask for AXL.\n",
      "Sent: {\"method\": \"post\", \"id\": 123, \"request\": {\"type\": \"info\", \"payload\": {\"type\": \"l2Book\", \"coin\": \"AXL\", \"mantissa\": null}}}\n",
      "{'channel': 'post', 'data': {'id': 123, 'response': {'type': 'info', 'payload': {'type': 'l2Book', 'data': {'coin': 'AXL', 'time': 1734554989419, 'levels': [[], []]}}}}}\n",
      "Error: list index out of range\n",
      "[DEX] no price data for  AXL\n",
      "[DEX] setting weight BADGER: 0.13038563333333286\n",
      "[DEX] Dollar Weight too small, not sending order\n",
      "[DEX] setting weight BANANA: -1.0429343666666675\n",
      "[DEX] Dollar Weight too small, not sending order\n",
      "[DEX] setting weight BIGTIME: -0.04095436666666785\n",
      "[DEX] Dollar Weight too small, not sending order\n",
      "[DEX] setting weight BLUR: 0.049965633333332704\n",
      "[DEX] Dollar Weight too small, not sending order\n",
      "[DEX] setting weight BLZ: -0.008075633333334054\n",
      "[DEX] Dollar Weight too small, not sending order\n",
      "[DEX] setting weight BNB: -0.34125563333333275\n",
      "[DEX] Dollar Weight too small, not sending order\n",
      "[DEX] setting weight BSV: 0.21909436666666693\n",
      "[DEX] Dollar Weight too small, not sending order\n",
      "[DEX] setting weight BTC: 0.22871436666666511\n",
      "[DEX] Dollar Weight too small, not sending order\n",
      "[DEX] setting weight CAKE: -0.11893436666666801\n",
      "[DEX] Dollar Weight too small, not sending order\n",
      "[DEX] setting weight ENS: -0.09975436666666582\n",
      "[DEX] Dollar Weight too small, not sending order\n",
      "[DEX] setting weight ETC: 0.12842436666666757\n",
      "[DEX] Dollar Weight too small, not sending order\n",
      "[DEX] setting weight ETH: -0.04456563333333463\n",
      "[DEX] Dollar Weight too small, not sending order\n",
      "[DEX] setting weight FET: -0.5999656333333334\n",
      "[DEX] Dollar Weight too small, not sending order\n",
      "[DEX] setting weight GALA: -0.038814366666667155\n",
      "[DEX] Dollar Weight too small, not sending order\n",
      "[DEX] setting weight GAS: -0.06696563333333216\n",
      "[DEX] Dollar Weight too small, not sending order\n",
      "[DEX] setting weight HBAR: 0.13098563333333502\n",
      "[DEX] Dollar Weight too small, not sending order\n",
      "[DEX] setting weight ICP: 0.12045436666666731\n",
      "[DEX] Dollar Weight too small, not sending order\n",
      "[DEX] setting weight ILV: -0.1666443666666666\n",
      "[DEX] Dollar Weight too small, not sending order\n",
      "[DEX] setting weight IMX: 0.18623436666666748\n",
      "[DEX] Dollar Weight too small, not sending order\n",
      "[DEX] setting weight INJ: 0.9670343666666668\n",
      "[DEX] Dollar Weight too small, not sending order\n",
      "[DEX] setting weight IOTA: 0.11922563333333258\n",
      "[DEX] Dollar Weight too small, not sending order\n",
      "[DEX] setting weight KAS: 0.35519436666666593\n",
      "[DEX] Dollar Weight too small, not sending order\n",
      "[DEX] setting weight LISTA: 0.1652843666666648\n",
      "[DEX] Dollar Weight too small, not sending order\n",
      "[DEX] setting weight MAV: -0.09819436666666803\n",
      "[DEX] Dollar Weight too small, not sending order\n",
      "[DEX] setting weight MINA: 0.2660943666666675\n",
      "[DEX] Dollar Weight too small, not sending order\n",
      "[DEX] setting weight MKR: -0.03286563333333348\n",
      "[DEX] Dollar Weight too small, not sending order\n",
      "[DEX] setting weight NEAR: 0.34001436666666507\n",
      "[DEX] Dollar Weight too small, not sending order\n",
      "[DEX] setting weight OP: 0.011814366666666132\n",
      "[DEX] Dollar Weight too small, not sending order\n",
      "[DEX] setting weight ORDI: -0.1577343666666664\n",
      "[DEX] Dollar Weight too small, not sending order\n",
      "[DEX] setting weight PENDLE: 18.422934366666667\n",
      "[DEX] Connected to WebSocket getting Bid/Ask for PENDLE.\n",
      "Sent: {\"method\": \"post\", \"id\": 123, \"request\": {\"type\": \"info\", \"payload\": {\"type\": \"l2Book\", \"coin\": \"PENDLE\", \"mantissa\": null}}}\n",
      "{'channel': 'post', 'data': {'id': 123, 'response': {'type': 'info', 'payload': {'type': 'l2Book', 'data': {'coin': 'PENDLE', 'time': 1734554990223, 'levels': [[{'px': '6.0047', 'sz': '173.0', 'n': 1}, {'px': '6.0019', 'sz': '352.0', 'n': 1}, {'px': '5.9976', 'sz': '325.0', 'n': 1}, {'px': '5.9902', 'sz': '345.0', 'n': 1}, {'px': '5.9808', 'sz': '344.0', 'n': 1}, {'px': '5.9667', 'sz': '334.0', 'n': 1}, {'px': '5.938', 'sz': '325.0', 'n': 1}, {'px': '5.9028', 'sz': '1724.0', 'n': 1}, {'px': '5.8444', 'sz': '1809.0', 'n': 1}, {'px': '5.7987', 'sz': '1757.0', 'n': 1}], [{'px': '6.1248', 'sz': '18.0', 'n': 1}, {'px': '6.1565', 'sz': '104.0', 'n': 1}, {'px': '6.1655', 'sz': '107.0', 'n': 1}, {'px': '6.1773', 'sz': '122.0', 'n': 1}, {'px': '6.2059', 'sz': '118.0', 'n': 1}, {'px': '6.2534', 'sz': '101.0', 'n': 1}, {'px': '6.2846', 'sz': '110.0', 'n': 1}, {'px': '6.3648', 'sz': '167.0', 'n': 1}, {'px': '6.485', 'sz': '170.0', 'n': 1}, {'px': '6.6652', 'sz': '157.0', 'n': 1}]]}}}}}\n",
      "[DEX] Connection closed\n",
      "[DEX] setting weight POL: -0.18408436666666717\n",
      "[DEX] Dollar Weight too small, not sending order\n",
      "[DEX] setting weight POLYX: -18.422934366666667\n",
      "[DEX] Connected to WebSocket getting Bid/Ask for POLYX.\n",
      "Sent: {\"method\": \"post\", \"id\": 123, \"request\": {\"type\": \"info\", \"payload\": {\"type\": \"l2Book\", \"coin\": \"POLYX\", \"mantissa\": null}}}\n",
      "{'channel': 'post', 'data': {'id': 123, 'response': {'type': 'info', 'payload': {'type': 'l2Book', 'data': {'coin': 'POLYX', 'time': 1734554993841, 'levels': [[{'px': '0.29636', 'sz': '3388.0', 'n': 1}, {'px': '0.29632', 'sz': '3068.0', 'n': 1}, {'px': '0.29623', 'sz': '6281.0', 'n': 1}, {'px': '0.29608', 'sz': '6449.0', 'n': 1}, {'px': '0.29578', 'sz': '6166.0', 'n': 1}, {'px': '0.29543', 'sz': '5837.0', 'n': 1}, {'px': '0.29465', 'sz': '6874.0', 'n': 1}, {'px': '0.29374', 'sz': '6329.0', 'n': 1}, {'px': '0.29208', 'sz': '34983.0', 'n': 1}, {'px': '0.28965', 'sz': '31540.0', 'n': 1}, {'px': '0.28764', 'sz': '35592.0', 'n': 1}], [{'px': '0.29654', 'sz': '3316.0', 'n': 1}, {'px': '0.29657', 'sz': '3105.0', 'n': 1}, {'px': '0.29667', 'sz': '6005.0', 'n': 1}, {'px': '0.29671', 'sz': '6261.0', 'n': 1}, {'px': '0.29685', 'sz': '5866.0', 'n': 1}, {'px': '0.29705', 'sz': '5886.0', 'n': 1}, {'px': '0.29744', 'sz': '6092.0', 'n': 1}, {'px': '0.29814', 'sz': '6399.0', 'n': 1}, {'px': '0.29911', 'sz': '6257.0', 'n': 1}, {'px': '0.30068', 'sz': '33828.0', 'n': 1}, {'px': '0.30245', 'sz': '28339.0', 'n': 1}, {'px': '0.30546', 'sz': '31714.0', 'n': 1}]]}}}}}\n",
      "[DEX] Connection closed\n",
      "[DEX] setting weight PYTH: 0.09206563333333406\n",
      "[DEX] Dollar Weight too small, not sending order\n",
      "[DEX] setting weight REQ: -0.03989436666666535\n",
      "[DEX] Dollar Weight too small, not sending order\n",
      "[DEX] setting weight RUNE: -0.1535056333333351\n",
      "[DEX] Dollar Weight too small, not sending order\n",
      "[DEX] setting weight SAND: 0.20886563333333186\n",
      "[DEX] Dollar Weight too small, not sending order\n",
      "[DEX] setting weight SNX: 18.422934366666667\n",
      "[DEX] Connected to WebSocket getting Bid/Ask for SNX.\n",
      "Sent: {\"method\": \"post\", \"id\": 123, \"request\": {\"type\": \"info\", \"payload\": {\"type\": \"l2Book\", \"coin\": \"SNX\", \"mantissa\": null}}}\n",
      "{'channel': 'post', 'data': {'id': 123, 'response': {'type': 'info', 'payload': {'type': 'l2Book', 'data': {'coin': 'SNX', 'time': 1734554996457, 'levels': [[{'px': '2.4119', 'sz': '648.2', 'n': 1}, {'px': '2.4098', 'sz': '1418.8', 'n': 1}, {'px': '2.4074', 'sz': '1376.6', 'n': 1}, {'px': '2.4051', 'sz': '1360.5', 'n': 1}, {'px': '2.4004', 'sz': '1246.7', 'n': 1}, {'px': '2.396', 'sz': '1233.2', 'n': 1}, {'px': '2.3852', 'sz': '1342.1', 'n': 1}, {'px': '2.3709', 'sz': '6102.5', 'n': 1}, {'px': '2.3562', 'sz': '6328.6', 'n': 1}, {'px': '2.34', 'sz': '6751.8', 'n': 1}], [{'px': '2.4163', 'sz': '654.1', 'n': 1}, {'px': '2.4175', 'sz': '1413.8', 'n': 1}, {'px': '2.4188', 'sz': '1416.6', 'n': 1}, {'px': '2.4198', 'sz': '1213.0', 'n': 1}, {'px': '2.4213', 'sz': '1390.2', 'n': 1}, {'px': '2.423', 'sz': '1408.2', 'n': 1}, {'px': '2.4273', 'sz': '1229.1', 'n': 1}, {'px': '2.435', 'sz': '1348.0', 'n': 1}, {'px': '2.4455', 'sz': '1235.8', 'n': 1}, {'px': '2.4569', 'sz': '6242.8', 'n': 1}, {'px': '2.4688', 'sz': '6780.0', 'n': 1}, {'px': '2.4978', 'sz': '5821.7', 'n': 1}]]}}}}}\n",
      "[DEX] Connection closed\n",
      "[DEX] setting weight SOL: -0.31866563333333175\n",
      "[DEX] Dollar Weight too small, not sending order\n",
      "[DEX] setting weight STG: 18.422934366666667\n",
      "[DEX] Connected to WebSocket getting Bid/Ask for STG.\n",
      "Sent: {\"method\": \"post\", \"id\": 123, \"request\": {\"type\": \"info\", \"payload\": {\"type\": \"l2Book\", \"coin\": \"STG\", \"mantissa\": null}}}\n",
      "{'channel': 'post', 'data': {'id': 123, 'response': {'type': 'info', 'payload': {'type': 'l2Book', 'data': {'coin': 'STG', 'time': 1734554998988, 'levels': [[{'px': '0.31008', 'sz': '10219.0', 'n': 1}, {'px': '0.30984', 'sz': '10624.0', 'n': 1}, {'px': '0.30946', 'sz': '8827.0', 'n': 1}, {'px': '0.30859', 'sz': '10280.0', 'n': 1}, {'px': '0.30697', 'sz': '8867.0', 'n': 1}, {'px': '0.30618', 'sz': '52758.0', 'n': 1}, {'px': '0.30417', 'sz': '47394.0', 'n': 1}, {'px': '0.30063', 'sz': '50321.0', 'n': 1}], [{'px': '0.31046', 'sz': '4619.0', 'n': 1}, {'px': '0.31057', 'sz': '9308.0', 'n': 1}, {'px': '0.31069', 'sz': '9352.0', 'n': 1}, {'px': '0.31093', 'sz': '10554.0', 'n': 1}, {'px': '0.31201', 'sz': '9479.0', 'n': 1}, {'px': '0.31327', 'sz': '8900.0', 'n': 1}, {'px': '0.3149', 'sz': '45344.0', 'n': 1}, {'px': '0.3162', 'sz': '54156.0', 'n': 1}, {'px': '0.31917', 'sz': '48059.0', 'n': 1}]]}}}}}\n",
      "[DEX] Connection closed\n",
      "[DEX] setting weight STRAX: 18.422934366666667\n",
      "[DEX] Connected to WebSocket getting Bid/Ask for STRAX.\n",
      "Sent: {\"method\": \"post\", \"id\": 123, \"request\": {\"type\": \"info\", \"payload\": {\"type\": \"l2Book\", \"coin\": \"STRAX\", \"mantissa\": null}}}\n",
      "{'channel': 'post', 'data': {'id': 123, 'response': {'type': 'info', 'payload': {'type': 'l2Book', 'data': {'coin': 'STRAX', 'time': 1734555001639, 'levels': [[], []]}}}}}\n",
      "Error: list index out of range\n",
      "[DEX] no price data for  STRAX\n",
      "[DEX] setting weight SUI: 0.04656563333333352\n",
      "[DEX] Dollar Weight too small, not sending order\n",
      "[DEX] setting weight SUPER: -0.5399656333333347\n",
      "[DEX] Dollar Weight too small, not sending order\n",
      "[DEX] setting weight SUSHI: 0.05478563333333497\n",
      "[DEX] Dollar Weight too small, not sending order\n",
      "[DEX] setting weight TIA: -0.19958436666666657\n",
      "[DEX] Dollar Weight too small, not sending order\n",
      "[DEX] setting weight TON: -35.592065633333334\n",
      "[DEX] Connected to WebSocket getting Bid/Ask for TON.\n",
      "Sent: {\"method\": \"post\", \"id\": 123, \"request\": {\"type\": \"info\", \"payload\": {\"type\": \"l2Book\", \"coin\": \"TON\", \"mantissa\": null}}}\n",
      "{'channel': 'post', 'data': {'id': 123, 'response': {'type': 'info', 'payload': {'type': 'l2Book', 'data': {'coin': 'TON', 'time': 1734555002443, 'levels': [[{'px': '5.3992', 'sz': '447.7', 'n': 1}, {'px': '5.3906', 'sz': '846.7', 'n': 1}, {'px': '5.3816', 'sz': '934.9', 'n': 1}, {'px': '5.3681', 'sz': '970.4', 'n': 1}, {'px': '5.3487', 'sz': '917.4', 'n': 1}, {'px': '5.34', 'sz': '912.7', 'n': 1}, {'px': '5.317', 'sz': '949.3', 'n': 1}, {'px': '5.2815', 'sz': '4744.9', 'n': 1}, {'px': '5.2443', 'sz': '5348.3', 'n': 1}, {'px': '5.1897', 'sz': '4328.5', 'n': 1}], [{'px': '5.4198', 'sz': '487.8', 'n': 1}, {'px': '5.4306', 'sz': '942.3', 'n': 1}, {'px': '5.4417', 'sz': '963.1', 'n': 1}, {'px': '5.455', 'sz': '906.8', 'n': 1}, {'px': '5.4705', 'sz': '839.9', 'n': 1}, {'px': '5.4914', 'sz': '884.6', 'n': 1}, {'px': '5.5232', 'sz': '918.2', 'n': 1}, {'px': '5.555', 'sz': '4392.1', 'n': 1}, {'px': '5.5977', 'sz': '4705.4', 'n': 1}, {'px': '5.6568', 'sz': '3942.6', 'n': 1}]]}}}}}\n",
      "[DEX] Connection closed\n",
      "[DEX] setting weight TURBO: -18.422934366666667\n",
      "[DEX] Connected to WebSocket getting Bid/Ask for TURBO.\n",
      "Sent: {\"method\": \"post\", \"id\": 123, \"request\": {\"type\": \"info\", \"payload\": {\"type\": \"l2Book\", \"coin\": \"TURBO\", \"mantissa\": null}}}\n",
      "{'channel': 'post', 'data': {'id': 123, 'response': {'type': 'info', 'payload': {'type': 'l2Book', 'data': {'coin': 'TURBO', 'time': 1734555004458, 'levels': [[{'px': '0.009022', 'sz': '152639.0', 'n': 1}, {'px': '0.009016', 'sz': '335985.0', 'n': 1}, {'px': '0.009011', 'sz': '307272.0', 'n': 1}, {'px': '0.009005', 'sz': '316636.0', 'n': 1}, {'px': '0.008995', 'sz': '328732.0', 'n': 1}, {'px': '0.008991', 'sz': '334967.0', 'n': 1}, {'px': '0.008978', 'sz': '311524.0', 'n': 1}, {'px': '0.008973', 'sz': '336525.0', 'n': 1}, {'px': '0.008957', 'sz': '287661.0', 'n': 1}, {'px': '0.008946', 'sz': '295758.0', 'n': 1}, {'px': '0.008927', 'sz': '303724.0', 'n': 1}, {'px': '0.00888', 'sz': '292377.0', 'n': 1}, {'px': '0.008832', 'sz': '1728497.0', 'n': 1}, {'px': '0.008766', 'sz': '1723606.0', 'n': 1}, {'px': '0.00871', 'sz': '1432260.0', 'n': 1}], [{'px': '0.009047', 'sz': '168527.0', 'n': 1}, {'px': '0.009056', 'sz': '326361.0', 'n': 1}, {'px': '0.00906', 'sz': '343233.0', 'n': 1}, {'px': '0.009066', 'sz': '341132.0', 'n': 1}, {'px': '0.009074', 'sz': '322967.0', 'n': 1}, {'px': '0.009081', 'sz': '284948.0', 'n': 1}, {'px': '0.009091', 'sz': '300783.0', 'n': 1}, {'px': '0.009099', 'sz': '315078.0', 'n': 1}, {'px': '0.009112', 'sz': '325478.0', 'n': 1}, {'px': '0.009141', 'sz': '300618.0', 'n': 1}, {'px': '0.00919', 'sz': '293193.0', 'n': 1}, {'px': '0.009238', 'sz': '1409048.0', 'n': 1}, {'px': '0.009304', 'sz': '1638939.0', 'n': 1}, {'px': '0.009329', 'sz': '1491918.0', 'n': 1}]]}}}}}\n",
      "[DEX] Connection closed\n",
      "[DEX] setting weight UMA: 0.12842436666666757\n",
      "[DEX] Dollar Weight too small, not sending order\n",
      "[DEX] setting weight UNIBOT: -18.422934366666667\n",
      "[DEX] Connected to WebSocket getting Bid/Ask for UNIBOT.\n",
      "Sent: {\"method\": \"post\", \"id\": 123, \"request\": {\"type\": \"info\", \"payload\": {\"type\": \"l2Book\", \"coin\": \"UNIBOT\", \"mantissa\": null}}}\n",
      "{'channel': 'post', 'data': {'id': 123, 'response': {'type': 'info', 'payload': {'type': 'l2Book', 'data': {'coin': 'UNIBOT', 'time': 1734555007067, 'levels': [[], []]}}}}}\n",
      "Error: list index out of range\n",
      "[DEX] no price data for  UNIBOT\n",
      "[DEX] setting weight VET: -18.422934366666667\n",
      "[DEX] Connected to WebSocket getting Bid/Ask for VET.\n",
      "Sent: {\"method\": \"post\", \"id\": 123, \"request\": {\"type\": \"info\", \"payload\": {\"type\": \"l2Book\", \"coin\": \"VET\", \"mantissa\": null}}}\n",
      "{'channel': 'post', 'data': {'id': 123, 'response': {'type': 'info', 'payload': {'type': 'l2Book', 'data': {'coin': 'VET', 'time': 1734555007970, 'levels': [[{'px': '0.051021', 'sz': '47354.0', 'n': 1}, {'px': '0.050926', 'sz': '100593.0', 'n': 1}, {'px': '0.050835', 'sz': '99318.0', 'n': 1}, {'px': '0.050721', 'sz': '103374.0', 'n': 1}, {'px': '0.050586', 'sz': '96070.0', 'n': 1}, {'px': '0.050112', 'sz': '112898.0', 'n': 1}, {'px': '0.049794', 'sz': '535435.0', 'n': 1}, {'px': '0.049433', 'sz': '528538.0', 'n': 1}, {'px': '0.04889', 'sz': '524790.0', 'n': 1}], [{'px': '0.051196', 'sz': '55051.0', 'n': 1}, {'px': '0.051288', 'sz': '100234.0', 'n': 1}, {'px': '0.051382', 'sz': '91369.0', 'n': 1}, {'px': '0.051497', 'sz': '90966.0', 'n': 1}, {'px': '0.051633', 'sz': '100207.0', 'n': 1}, {'px': '0.051819', 'sz': '99204.0', 'n': 1}, {'px': '0.052109', 'sz': '91624.0', 'n': 1}, {'px': '0.052398', 'sz': '498502.0', 'n': 1}, {'px': '0.05279', 'sz': '536151.0', 'n': 1}, {'px': '0.053335', 'sz': '525591.0', 'n': 1}]]}}}}}\n",
      "[DEX] Connection closed\n",
      "[DEX] setting weight WLD: -0.07343436666666747\n",
      "[DEX] Dollar Weight too small, not sending order\n",
      "[DEX] setting weight XLM: 35.23416563333333\n",
      "[DEX] Connected to WebSocket getting Bid/Ask for XLM.\n",
      "Sent: {\"method\": \"post\", \"id\": 123, \"request\": {\"type\": \"info\", \"payload\": {\"type\": \"l2Book\", \"coin\": \"XLM\", \"mantissa\": null}}}\n",
      "{'channel': 'post', 'data': {'id': 123, 'response': {'type': 'info', 'payload': {'type': 'l2Book', 'data': {'coin': 'XLM', 'time': 1734555010285, 'levels': [[{'px': '0.39787', 'sz': '6444.0', 'n': 1}, {'px': '0.39762', 'sz': '13278.0', 'n': 1}, {'px': '0.3969', 'sz': '11798.0', 'n': 1}, {'px': '0.39631', 'sz': '13496.0', 'n': 1}, {'px': '0.39372', 'sz': '61630.0', 'n': 1}, {'px': '0.39351', 'sz': '13562.0', 'n': 1}, {'px': '0.39145', 'sz': '64396.0', 'n': 1}, {'px': '0.38765', 'sz': '67253.0', 'n': 1}], [{'px': '0.39833', 'sz': '6347.0', 'n': 1}, {'px': '0.39859', 'sz': '11747.0', 'n': 1}, {'px': '0.39887', 'sz': '12049.0', 'n': 1}, {'px': '0.3993', 'sz': '12136.0', 'n': 1}, {'px': '0.3999', 'sz': '12160.0', 'n': 1}, {'px': '0.4009', 'sz': '13649.0', 'n': 1}, {'px': '0.40269', 'sz': '12596.0', 'n': 1}, {'px': '0.40448', 'sz': '64296.0', 'n': 1}, {'px': '0.40707', 'sz': '62473.0', 'n': 1}, {'px': '0.41085', 'sz': '61394.0', 'n': 1}]]}}}}}\n",
      "[DEX] Connection closed\n",
      "[DEX] setting weight ZEN: -18.422934366666667\n",
      "[DEX] Connected to WebSocket getting Bid/Ask for ZEN.\n",
      "Sent: {\"method\": \"post\", \"id\": 123, \"request\": {\"type\": \"info\", \"payload\": {\"type\": \"l2Book\", \"coin\": \"ZEN\", \"mantissa\": null}}}\n",
      "{'channel': 'post', 'data': {'id': 123, 'response': {'type': 'info', 'payload': {'type': 'l2Book', 'data': {'coin': 'ZEN', 'time': 1734555012497, 'levels': [[{'px': '15.03', 'sz': '61.38', 'n': 1}, {'px': '15.014', 'sz': '118.74', 'n': 1}, {'px': '15.004', 'sz': '115.49', 'n': 1}, {'px': '14.975', 'sz': '140.48', 'n': 1}, {'px': '14.944', 'sz': '129.38', 'n': 1}, {'px': '14.9', 'sz': '131.64', 'n': 1}, {'px': '14.829', 'sz': '140.12', 'n': 1}, {'px': '14.717', 'sz': '673.03', 'n': 1}, {'px': '14.675', 'sz': '642.97', 'n': 1}, {'px': '14.527', 'sz': '678.54', 'n': 1}], [{'px': '15.059', 'sz': '66.75', 'n': 1}, {'px': '15.075', 'sz': '116.92', 'n': 1}, {'px': '15.101', 'sz': '117.31', 'n': 1}, {'px': '15.136', 'sz': '130.12', 'n': 1}, {'px': '15.169', 'sz': '117.55', 'n': 1}, {'px': '15.205', 'sz': '129.5', 'n': 1}, {'px': '15.281', 'sz': '133.44', 'n': 1}, {'px': '15.348', 'sz': '558.69', 'n': 1}, {'px': '15.427', 'sz': '627.75', 'n': 1}, {'px': '15.555', 'sz': '613.87', 'n': 1}]]}}}}}\n",
      "[DEX] Connection closed\n"
     ]
    }
   ],
   "source": [
    "# Instantiate Portfolio Manager with Oracle\n",
    "portfolio_manager = PortfolioManager(oracle, dex)\n",
    "\n",
    "# Perform portfolio management\n",
    "portfolio_manager.manage_portfolio()"
   ]
  },
  {
   "cell_type": "code",
   "execution_count": 7,
   "id": "be861987-ead6-4e83-ae36-c33b2131517d",
   "metadata": {},
   "outputs": [
    {
     "name": "stdout",
     "output_type": "stream",
     "text": [
      "[DEX] Connected to WebSocket getting Bid/Ask for XLM.\n",
      "Sent: {\"method\": \"post\", \"id\": 123, \"request\": {\"type\": \"info\", \"payload\": {\"type\": \"l2Book\", \"coin\": \"XLM\", \"mantissa\": null}}}\n",
      "{'channel': 'post', 'data': {'id': 123, 'response': {'type': 'info', 'payload': {'type': 'l2Book', 'data': {'coin': 'XLM', 'time': 1734554977558, 'levels': [[{'px': '0.39714', 'sz': '12071.0', 'n': 1}, {'px': '0.39672', 'sz': '13890.0', 'n': 1}, {'px': '0.39449', 'sz': '14181.0', 'n': 1}, {'px': '0.39253', 'sz': '71053.0', 'n': 1}, {'px': '0.38994', 'sz': '68577.0', 'n': 1}, {'px': '0.38534', 'sz': '67513.0', 'n': 1}], [{'px': '0.39772', 'sz': '6901.0', 'n': 1}, {'px': '0.39775', 'sz': '11927.0', 'n': 1}, {'px': '0.39781', 'sz': '12938.0', 'n': 1}, {'px': '0.398', 'sz': '11904.0', 'n': 1}, {'px': '0.39862', 'sz': '12449.0', 'n': 1}, {'px': '0.39945', 'sz': '12274.0', 'n': 1}, {'px': '0.4006', 'sz': '12105.0', 'n': 1}, {'px': '0.40212', 'sz': '64822.0', 'n': 1}, {'px': '0.40476', 'sz': '68153.0', 'n': 1}, {'px': '0.40699', 'sz': '63122.0', 'n': 1}]]}}}}}\n",
      "[DEX] Connection closed\n"
     ]
    },
    {
     "data": {
      "text/plain": [
       "(0.39714, 0.39772)"
      ]
     },
     "execution_count": 7,
     "metadata": {},
     "output_type": "execute_result"
    }
   ],
   "source": [
    "dex.get_bid_ask('XLM')"
   ]
  },
  {
   "cell_type": "code",
   "execution_count": null,
   "id": "b0db4f00-9be1-4079-82a1-b4b41bb4b962",
   "metadata": {},
   "outputs": [],
   "source": []
  }
 ],
 "metadata": {
  "kernelspec": {
   "display_name": "ml310",
   "language": "python",
   "name": "ml310"
  },
  "language_info": {
   "codemirror_mode": {
    "name": "ipython",
    "version": 3
   },
   "file_extension": ".py",
   "mimetype": "text/x-python",
   "name": "python",
   "nbconvert_exporter": "python",
   "pygments_lexer": "ipython3",
   "version": "3.10.14"
  }
 },
 "nbformat": 4,
 "nbformat_minor": 5
}
